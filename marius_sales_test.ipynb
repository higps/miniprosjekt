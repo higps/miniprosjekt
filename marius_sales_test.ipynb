{
 "cells": [
  {
   "cell_type": "code",
   "execution_count": null,
   "metadata": {},
   "outputs": [],
   "source": [
    "import pandas as pd"
   ]
  },
  {
   "cell_type": "code",
   "execution_count": null,
   "metadata": {},
   "outputs": [
    {
     "ename": "",
     "evalue": "",
     "output_type": "error",
     "traceback": [
      "\u001b[1;31mRunning cells with 'c:\\Users\\MariusDyrseth\\AppData\\Local\\Microsoft\\WindowsApps\\python3.11.exe' requires the ipykernel package.\n",
      "\u001b[1;31mRun the following command to install 'ipykernel' into the Python environment. \n",
      "\u001b[1;31mCommand: 'c:/Users/MariusDyrseth/AppData/Local/Microsoft/WindowsApps/python3.11.exe -m pip install ipykernel -U --user --force-reinstall'"
     ]
    }
   ],
   "source": [
    "# Create two sample DataFrames\n",
    "df1 = pd.DataFrame({'Key': [1, 2, 3]})\n",
    "df2 = pd.DataFrame({'Key': [1, 2, 3]})\n",
    "\n",
    "# Add a constant key column to both DataFrames\n",
    "df1['constant_key'] = 1\n",
    "df2['constant_key'] = 1\n",
    "\n",
    "# Perform the cross join by merging on the common key\n",
    "cross_join_result = pd.merge(df1, df2, on='constant_key').drop('constant_key', axis=1)\n",
    "\n",
    "# Drop the duplicate key column if needed\n",
    "cross_join_result = cross_join_result.drop('Key_y', axis=1)\n",
    "\n",
    "print(cross_join_result)"
   ]
  }
 ],
 "metadata": {
  "kernelspec": {
   "display_name": "Python 3",
   "language": "python",
   "name": "python3"
  },
  "language_info": {
   "name": "python",
   "version": "3.11.7"
  }
 },
 "nbformat": 4,
 "nbformat_minor": 2
}
