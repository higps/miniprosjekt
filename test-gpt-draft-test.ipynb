{
 "cells": [
  {
   "cell_type": "code",
   "execution_count": 1,
   "metadata": {},
   "outputs": [],
   "source": [
    "import pandas as pd"
   ]
  },
  {
   "cell_type": "code",
   "execution_count": 2,
   "metadata": {},
   "outputs": [],
   "source": [
    "df = pd.read_csv('sales_train.csv')\n",
    "\n",
    "df['date_lag1'] = df['date_block_num'] + 1"
   ]
  },
  {
   "cell_type": "code",
   "execution_count": 3,
   "metadata": {},
   "outputs": [],
   "source": [
    "features = [\"date_block_num\",\"shop_id\",\"item_id\",\"item_price\",\"item_cnt_day\"]\n",
    "\n",
    "df_sales = df[features]\n",
    "# Concatenate the DataFrames along the columns (axis=1)\n",
    "# result_df = pd.concat([existing_df, new_column], axis=1)"
   ]
  },
  {
   "cell_type": "code",
   "execution_count": null,
   "metadata": {},
   "outputs": [],
   "source": [
    "# Gjør group by før vi gjør for loop.\n",
    "# Gjør for loops på shop og item per hver unique måned\n",
    "# Gjør om til Numpy array for at det skal gå raskere"
   ]
  },
  {
   "cell_type": "code",
   "execution_count": 4,
   "metadata": {},
   "outputs": [],
   "source": [
    "\n",
    "\n",
    "\n",
    "# Step 1: Create a DataFrame with all possible combinations\n",
    "# all_combinations = pd.DataFrame(\n",
    "#     [(block, shop, item) for block in df_sales['date_block_num'].unique()\n",
    "#      for shop in df_sales['shop_id'].unique()\n",
    "#      for item in df_sales['item_id'].unique()],\n",
    "#     columns=['date_block_num', 'shop_id', 'item_id']\n",
    "# )\n",
    "\n"
   ]
  },
  {
   "cell_type": "code",
   "execution_count": 14,
   "metadata": {},
   "outputs": [],
   "source": [
    "all_combinations_list = []\n",
    "\n",
    "# Loop through each unique date_block_num\n",
    "for block in df_sales['date_block_num'].unique():\n",
    "    # Filter the DataFrame for the current date_block_num or earlier\n",
    "    df_block = df_sales[df_sales['date_block_num'] <= block]\n",
    "    \n",
    "    # Generate combinations for shop_id and item_id\n",
    "    combinations = [(block, shop, item) for shop in df_block['shop_id'].unique()\n",
    "                    for item in df_block['item_id'].unique()]\n",
    "    \n",
    "    # Append combinations to the list\n",
    "    all_combinations_list.extend(combinations)\n",
    "\n",
    "# Create a DataFrame from the list of combinations\n",
    "all_combinations = pd.DataFrame(all_combinations_list, columns=['date_block_num', 'shop_id', 'item_id'])# Step 2: Merge with existing sales data\n",
    "merged_data = pd.merge(all_combinations, df_sales, on=['date_block_num', 'shop_id', 'item_id'], how='left')\n"
   ]
  },
  {
   "cell_type": "code",
   "execution_count": null,
   "metadata": {},
   "outputs": [],
   "source": [
    "# Quality check: Display unique combinations for each date_block_num\n",
    "for block in all_combinations['date_block_num'].unique():\n",
    "    unique_combinations = all_combinations[all_combinations['date_block_num'] == block][['shop_id', 'item_id']].drop_duplicates()"
   ]
  },
  {
   "cell_type": "code",
   "execution_count": 15,
   "metadata": {},
   "outputs": [],
   "source": [
    "\n",
    "# Step 3: Identify shops that didn't sell any products\n",
    "shops_with_no_sales = merged_data[merged_data['item_cnt_day'].isnull()]['shop_id'].unique()\n"
   ]
  },
  {
   "cell_type": "code",
   "execution_count": 16,
   "metadata": {},
   "outputs": [],
   "source": [
    "\n",
    "# Step 4: Fill missing values with 0\n",
    "merged_data['item_cnt_day'].fillna(0, inplace=True)\n",
    "\n",
    "merged_data['item_price'].fillna(0, inplace=True)"
   ]
  },
  {
   "cell_type": "code",
   "execution_count": 17,
   "metadata": {},
   "outputs": [],
   "source": [
    "df_group=merged_data.groupby(['date_block_num', 'shop_id', 'item_id', 'item_price'])['item_cnt_day'].sum().reset_index()"
   ]
  },
  {
   "cell_type": "code",
   "execution_count": 18,
   "metadata": {},
   "outputs": [],
   "source": [
    "# Save the result to a CSV file\n",
    "result_file_path = 'merged_sales_data_grouped_new_method.csv'\n",
    "df_group.to_csv(result_file_path, index=False)"
   ]
  },
  {
   "cell_type": "code",
   "execution_count": null,
   "metadata": {},
   "outputs": [],
   "source": []
  }
 ],
 "metadata": {
  "kernelspec": {
   "display_name": "Python 3",
   "language": "python",
   "name": "python3"
  },
  "language_info": {
   "codemirror_mode": {
    "name": "ipython",
    "version": 3
   },
   "file_extension": ".py",
   "mimetype": "text/x-python",
   "name": "python",
   "nbconvert_exporter": "python",
   "pygments_lexer": "ipython3",
   "version": "3.11.5"
  }
 },
 "nbformat": 4,
 "nbformat_minor": 2
}
