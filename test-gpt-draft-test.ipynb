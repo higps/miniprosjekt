{
 "cells": [
  {
   "cell_type": "code",
   "execution_count": 1,
   "metadata": {},
   "outputs": [],
   "source": [
    "import pandas as pd"
   ]
  },
  {
   "cell_type": "code",
   "execution_count": 2,
   "metadata": {},
   "outputs": [],
   "source": [
    "df = pd.read_csv('sales_train.csv')\n",
    "\n",
    "df['date_lag1'] = df['date_block_num'] + 1"
   ]
  },
  {
   "cell_type": "code",
   "execution_count": 3,
   "metadata": {},
   "outputs": [],
   "source": [
    "features = [\"date_block_num\",\"shop_id\",\"item_id\",\"item_price\",\"item_cnt_day\"]\n",
    "\n",
    "df_sales = df[features]\n",
    "# Concatenate the DataFrames along the columns (axis=1)\n",
    "# result_df = pd.concat([existing_df, new_column], axis=1)"
   ]
  },
  {
   "cell_type": "code",
   "execution_count": null,
   "metadata": {},
   "outputs": [],
   "source": [
    "# Gjør group by før vi gjør for loop.\n",
    "# Gjør for loops på shop og item per hver unique måned\n",
    "# Gjør om til Numpy array for at det skal gå raskere"
   ]
  },
  {
   "cell_type": "code",
   "execution_count": 4,
   "metadata": {},
   "outputs": [],
   "source": [
    "\n",
    "\n",
    "\n",
    "# Step 1: Create a DataFrame with all possible combinations\n",
    "# all_combinations = pd.DataFrame(\n",
    "#     [(block, shop, item) for block in df_sales['date_block_num'].unique()\n",
    "#      for shop in df_sales['shop_id'].unique()\n",
    "#      for item in df_sales['item_id'].unique()],\n",
    "#     columns=['date_block_num', 'shop_id', 'item_id']\n",
    "# )\n",
    "\n"
   ]
  },
  {
   "cell_type": "code",
   "execution_count": 14,
   "metadata": {},
   "outputs": [],
   "source": [
    "all_combinations_list = []\n",
    "\n",
    "# Loop through each unique date_block_num\n",
    "for block in df_sales['date_block_num'].unique():\n",
    "    # Filter the DataFrame for the current date_block_num or earlier\n",
    "    df_block = df_sales[df_sales['date_block_num'] <= block]\n",
    "    \n",
    "    # Generate combinations for shop_id and item_id\n",
    "    combinations = [(block, shop, item) for shop in df_block['shop_id'].unique()\n",
    "                    for item in df_block['item_id'].unique()]\n",
    "    \n",
    "    # Append combinations to the list\n",
    "    all_combinations_list.extend(combinations)\n",
    "\n",
    "# Create a DataFrame from the list of combinations\n",
    "all_combinations = pd.DataFrame(all_combinations_list, columns=['date_block_num', 'shop_id', 'item_id'])# Step 2: Merge with existing sales data\n",
    "merged_data = pd.merge(all_combinations, df_sales, on=['date_block_num', 'shop_id', 'item_id'], how='left')\n"
   ]
  },
  {
   "cell_type": "code",
   "execution_count": 19,
   "metadata": {},
   "outputs": [],
   "source": [
    "# # Quality check: Display unique combinations for each date_block_num\n",
    "# for block in all_combinations['date_block_num'].unique():\n",
    "#     unique_combinations = all_combinations[all_combinations['date_block_num'] == block][['shop_id', 'item_id']].drop_duplicates()"
   ]
  },
  {
   "cell_type": "code",
   "execution_count": 20,
   "metadata": {},
   "outputs": [
    {
     "name": "stdout",
     "output_type": "stream",
     "text": [
      "Month 0: Number of combinations = 365175\n",
      "Month 1: Number of combinations = 430192\n",
      "Month 2: Number of combinations = 487200\n",
      "Month 3: Number of combinations = 517344\n",
      "Month 4: Number of combinations = 561540\n",
      "Month 5: Number of combinations = 599550\n",
      "Month 6: Number of combinations = 621900\n",
      "Month 7: Number of combinations = 645400\n",
      "Month 8: Number of combinations = 664600\n",
      "Month 9: Number of combinations = 711246\n",
      "Month 10: Number of combinations = 736185\n",
      "Month 11: Number of combinations = 778492\n",
      "Month 12: Number of combinations = 789256\n",
      "Month 13: Number of combinations = 806884\n",
      "Month 14: Number of combinations = 854658\n",
      "Month 15: Number of combinations = 888030\n",
      "Month 16: Number of combinations = 902440\n",
      "Month 17: Number of combinations = 916355\n",
      "Month 18: Number of combinations = 950712\n",
      "Month 19: Number of combinations = 981939\n",
      "Month 20: Number of combinations = 1000749\n",
      "Month 21: Number of combinations = 1050670\n",
      "Month 22: Number of combinations = 1077350\n",
      "Month 23: Number of combinations = 1104726\n",
      "Month 24: Number of combinations = 1116152\n",
      "Month 25: Number of combinations = 1148671\n",
      "Month 26: Number of combinations = 1168495\n",
      "Month 27: Number of combinations = 1183953\n",
      "Month 28: Number of combinations = 1197228\n",
      "Month 29: Number of combinations = 1211978\n",
      "Month 30: Number of combinations = 1224132\n",
      "Month 31: Number of combinations = 1240770\n",
      "Month 32: Number of combinations = 1258588\n",
      "Month 33: Number of combinations = 1308420\n"
     ]
    }
   ],
   "source": [
    "# Initialize a dictionary to store combinations for each date_block_num\n",
    "all_combinations_dict = {}\n",
    "\n",
    "# Loop through each unique date_block_num\n",
    "for block in df_sales['date_block_num'].unique():\n",
    "    # Filter the DataFrame for the current date_block_num or earlier\n",
    "    df_block = df_sales[df_sales['date_block_num'] <= block]\n",
    "    \n",
    "    # Generate combinations for shop_id and item_id\n",
    "    combinations = pd.DataFrame([(block, shop, item) for shop in df_block['shop_id'].unique()\n",
    "                                 for item in df_block['item_id'].unique()],\n",
    "                                columns=['date_block_num', 'shop_id', 'item_id'])\n",
    "    \n",
    "    # Store the combinations in the dictionary\n",
    "    all_combinations_dict[block] = combinations\n",
    "\n",
    "# Quality check: Display the length of each month's combinations\n",
    "for block, combinations_df in all_combinations_dict.items():\n",
    "    print(f\"Month {block}: Number of combinations = {len(combinations_df)}\")"
   ]
  },
  {
   "cell_type": "code",
   "execution_count": 15,
   "metadata": {},
   "outputs": [],
   "source": [
    "\n",
    "# Step 3: Identify shops that didn't sell any products\n",
    "shops_with_no_sales = merged_data[merged_data['item_cnt_day'].isnull()]['shop_id'].unique()\n"
   ]
  },
  {
   "cell_type": "code",
   "execution_count": 16,
   "metadata": {},
   "outputs": [],
   "source": [
    "\n",
    "# Step 4: Fill missing values with 0\n",
    "merged_data['item_cnt_day'].fillna(0, inplace=True)\n",
    "\n",
    "merged_data['item_price'].fillna(0, inplace=True)"
   ]
  },
  {
   "cell_type": "code",
   "execution_count": 17,
   "metadata": {},
   "outputs": [],
   "source": [
    "df_group=merged_data.groupby(['date_block_num', 'shop_id', 'item_id', 'item_price'])['item_cnt_day'].sum().reset_index()"
   ]
  },
  {
   "cell_type": "code",
   "execution_count": 18,
   "metadata": {},
   "outputs": [],
   "source": [
    "# Save the result to a CSV file\n",
    "result_file_path = 'merged_sales_data_grouped_new_method.csv'\n",
    "df_group.to_csv(result_file_path, index=False)"
   ]
  },
  {
   "cell_type": "code",
   "execution_count": null,
   "metadata": {},
   "outputs": [],
   "source": []
  }
 ],
 "metadata": {
  "kernelspec": {
   "display_name": "Python 3",
   "language": "python",
   "name": "python3"
  },
  "language_info": {
   "codemirror_mode": {
    "name": "ipython",
    "version": 3
   },
   "file_extension": ".py",
   "mimetype": "text/x-python",
   "name": "python",
   "nbconvert_exporter": "python",
   "pygments_lexer": "ipython3",
   "version": "3.11.5"
  }
 },
 "nbformat": 4,
 "nbformat_minor": 2
}
