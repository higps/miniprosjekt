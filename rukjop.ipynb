{
 "cells": [
  {
   "cell_type": "code",
   "execution_count": 29,
   "metadata": {},
   "outputs": [],
   "source": [
    "import pandas as pd\n",
    "from itertools import product"
   ]
  },
  {
   "cell_type": "code",
   "execution_count": 30,
   "metadata": {},
   "outputs": [
    {
     "data": {
      "text/plain": [
       "Index(['Unnamed: 0', 'date_x', 'date_block_num', 'shop_id', 'item_id',\n",
       "       'item_price', 'item_cnt_day', 'date_y', 'day_name', 'day_of_week',\n",
       "       'day_of_month', 'week', 'month_name', 'month_of_year',\n",
       "       'month_year_name', 'month_year_name_sort', 'quarter',\n",
       "       'quarter_year_name_sort', 'year', 'year_half', 'red_day_not_sun',\n",
       "       'black_friday', 'Date_formatted'],\n",
       "      dtype='object')"
      ]
     },
     "execution_count": 30,
     "metadata": {},
     "output_type": "execute_result"
    }
   ],
   "source": [
    "df_original = pd.read_csv(\"sales_train_dates_added.csv\")\n",
    "df_original.columns"
   ]
  },
  {
   "cell_type": "code",
   "execution_count": 31,
   "metadata": {},
   "outputs": [
    {
     "data": {
      "text/html": [
       "<div>\n",
       "<style scoped>\n",
       "    .dataframe tbody tr th:only-of-type {\n",
       "        vertical-align: middle;\n",
       "    }\n",
       "\n",
       "    .dataframe tbody tr th {\n",
       "        vertical-align: top;\n",
       "    }\n",
       "\n",
       "    .dataframe thead th {\n",
       "        text-align: right;\n",
       "    }\n",
       "</style>\n",
       "<table border=\"1\" class=\"dataframe\">\n",
       "  <thead>\n",
       "    <tr style=\"text-align: right;\">\n",
       "      <th></th>\n",
       "      <th>date_block_num</th>\n",
       "      <th>item_id</th>\n",
       "      <th>shop_id</th>\n",
       "      <th>date_x</th>\n",
       "      <th>item_cnt_day</th>\n",
       "      <th>month_of_year</th>\n",
       "      <th>quarter</th>\n",
       "      <th>red_day_not_sun</th>\n",
       "      <th>black_friday</th>\n",
       "      <th>year_half</th>\n",
       "    </tr>\n",
       "  </thead>\n",
       "  <tbody>\n",
       "    <tr>\n",
       "      <th>0</th>\n",
       "      <td>0</td>\n",
       "      <td>19</td>\n",
       "      <td>25</td>\n",
       "      <td>12.01.2013</td>\n",
       "      <td>1.0</td>\n",
       "      <td>1.0</td>\n",
       "      <td>1.0</td>\n",
       "      <td>0.0</td>\n",
       "      <td>0.0</td>\n",
       "      <td>1.0</td>\n",
       "    </tr>\n",
       "    <tr>\n",
       "      <th>1</th>\n",
       "      <td>0</td>\n",
       "      <td>19</td>\n",
       "      <td>1</td>\n",
       "      <td>NaN</td>\n",
       "      <td>0.0</td>\n",
       "      <td>NaN</td>\n",
       "      <td>NaN</td>\n",
       "      <td>NaN</td>\n",
       "      <td>NaN</td>\n",
       "      <td>NaN</td>\n",
       "    </tr>\n",
       "    <tr>\n",
       "      <th>2</th>\n",
       "      <td>0</td>\n",
       "      <td>19</td>\n",
       "      <td>2</td>\n",
       "      <td>NaN</td>\n",
       "      <td>0.0</td>\n",
       "      <td>NaN</td>\n",
       "      <td>NaN</td>\n",
       "      <td>NaN</td>\n",
       "      <td>NaN</td>\n",
       "      <td>NaN</td>\n",
       "    </tr>\n",
       "    <tr>\n",
       "      <th>3</th>\n",
       "      <td>0</td>\n",
       "      <td>19</td>\n",
       "      <td>10</td>\n",
       "      <td>NaN</td>\n",
       "      <td>0.0</td>\n",
       "      <td>NaN</td>\n",
       "      <td>NaN</td>\n",
       "      <td>NaN</td>\n",
       "      <td>NaN</td>\n",
       "      <td>NaN</td>\n",
       "    </tr>\n",
       "    <tr>\n",
       "      <th>4</th>\n",
       "      <td>0</td>\n",
       "      <td>19</td>\n",
       "      <td>19</td>\n",
       "      <td>NaN</td>\n",
       "      <td>0.0</td>\n",
       "      <td>NaN</td>\n",
       "      <td>NaN</td>\n",
       "      <td>NaN</td>\n",
       "      <td>NaN</td>\n",
       "      <td>NaN</td>\n",
       "    </tr>\n",
       "    <tr>\n",
       "      <th>...</th>\n",
       "      <td>...</td>\n",
       "      <td>...</td>\n",
       "      <td>...</td>\n",
       "      <td>...</td>\n",
       "      <td>...</td>\n",
       "      <td>...</td>\n",
       "      <td>...</td>\n",
       "      <td>...</td>\n",
       "      <td>...</td>\n",
       "      <td>...</td>\n",
       "    </tr>\n",
       "    <tr>\n",
       "      <th>10913845</th>\n",
       "      <td>33</td>\n",
       "      <td>22167</td>\n",
       "      <td>34</td>\n",
       "      <td>NaN</td>\n",
       "      <td>0.0</td>\n",
       "      <td>NaN</td>\n",
       "      <td>NaN</td>\n",
       "      <td>NaN</td>\n",
       "      <td>NaN</td>\n",
       "      <td>NaN</td>\n",
       "    </tr>\n",
       "    <tr>\n",
       "      <th>10913846</th>\n",
       "      <td>33</td>\n",
       "      <td>22167</td>\n",
       "      <td>41</td>\n",
       "      <td>NaN</td>\n",
       "      <td>0.0</td>\n",
       "      <td>NaN</td>\n",
       "      <td>NaN</td>\n",
       "      <td>NaN</td>\n",
       "      <td>NaN</td>\n",
       "      <td>NaN</td>\n",
       "    </tr>\n",
       "    <tr>\n",
       "      <th>10913847</th>\n",
       "      <td>33</td>\n",
       "      <td>22167</td>\n",
       "      <td>48</td>\n",
       "      <td>NaN</td>\n",
       "      <td>0.0</td>\n",
       "      <td>NaN</td>\n",
       "      <td>NaN</td>\n",
       "      <td>NaN</td>\n",
       "      <td>NaN</td>\n",
       "      <td>NaN</td>\n",
       "    </tr>\n",
       "    <tr>\n",
       "      <th>10913848</th>\n",
       "      <td>33</td>\n",
       "      <td>22167</td>\n",
       "      <td>9</td>\n",
       "      <td>NaN</td>\n",
       "      <td>0.0</td>\n",
       "      <td>NaN</td>\n",
       "      <td>NaN</td>\n",
       "      <td>NaN</td>\n",
       "      <td>NaN</td>\n",
       "      <td>NaN</td>\n",
       "    </tr>\n",
       "    <tr>\n",
       "      <th>10913849</th>\n",
       "      <td>33</td>\n",
       "      <td>22167</td>\n",
       "      <td>20</td>\n",
       "      <td>NaN</td>\n",
       "      <td>0.0</td>\n",
       "      <td>NaN</td>\n",
       "      <td>NaN</td>\n",
       "      <td>NaN</td>\n",
       "      <td>NaN</td>\n",
       "      <td>NaN</td>\n",
       "    </tr>\n",
       "  </tbody>\n",
       "</table>\n",
       "<p>10913850 rows × 10 columns</p>\n",
       "</div>"
      ],
      "text/plain": [
       "          date_block_num  item_id  shop_id      date_x  item_cnt_day  \\\n",
       "0                      0       19       25  12.01.2013           1.0   \n",
       "1                      0       19        1         NaN           0.0   \n",
       "2                      0       19        2         NaN           0.0   \n",
       "3                      0       19       10         NaN           0.0   \n",
       "4                      0       19       19         NaN           0.0   \n",
       "...                  ...      ...      ...         ...           ...   \n",
       "10913845              33    22167       34         NaN           0.0   \n",
       "10913846              33    22167       41         NaN           0.0   \n",
       "10913847              33    22167       48         NaN           0.0   \n",
       "10913848              33    22167        9         NaN           0.0   \n",
       "10913849              33    22167       20         NaN           0.0   \n",
       "\n",
       "          month_of_year  quarter  red_day_not_sun  black_friday  year_half  \n",
       "0                   1.0      1.0              0.0           0.0        1.0  \n",
       "1                   NaN      NaN              NaN           NaN        NaN  \n",
       "2                   NaN      NaN              NaN           NaN        NaN  \n",
       "3                   NaN      NaN              NaN           NaN        NaN  \n",
       "4                   NaN      NaN              NaN           NaN        NaN  \n",
       "...                 ...      ...              ...           ...        ...  \n",
       "10913845            NaN      NaN              NaN           NaN        NaN  \n",
       "10913846            NaN      NaN              NaN           NaN        NaN  \n",
       "10913847            NaN      NaN              NaN           NaN        NaN  \n",
       "10913848            NaN      NaN              NaN           NaN        NaN  \n",
       "10913849            NaN      NaN              NaN           NaN        NaN  \n",
       "\n",
       "[10913850 rows x 10 columns]"
      ]
     },
     "execution_count": 31,
     "metadata": {},
     "output_type": "execute_result"
    }
   ],
   "source": [
    "#BlackFriday, Holiday, Red Day\n",
    "#month_of_year, quarter, red_day_not_sun, black_friday, , year_half\n",
    "\n",
    "df_draft = df_original[[\"date_x\", \"date_block_num\", \"shop_id\", \"item_id\", \"item_cnt_day\",\"month_of_year\", \"quarter\", \"red_day_not_sun\", \"black_friday\", \"year_half\"]].copy()\n",
    "df_draft = df_draft.groupby([\"date_block_num\", \"item_id\", \"shop_id\"], as_index=False).sum()\n",
    "df_result = pd.DataFrame()\n",
    "for i in range(34):\n",
    "    df_date_block = df_draft[df_draft[\"date_block_num\"] == i][[\"date_block_num\", \"item_id\", \"shop_id\"]]\n",
    "    df_crossed = pd.DataFrame(list(product([i], df_date_block[\"item_id\"].unique(), df_date_block[\"shop_id\"].unique())),\n",
    "                               columns=[\"date_block_num\", \"item_id\", \"shop_id\"])\n",
    "    df_result = pd.concat([df_result, df_crossed], ignore_index=True)\n",
    "df_result = pd.merge(df_result, df_draft, on=[\"date_block_num\", \"item_id\", \"shop_id\"], how=\"left\")\n",
    "df_result[\"item_cnt_day\"].fillna(0, inplace=True)\n",
    "df_result"
   ]
  },
  {
   "cell_type": "code",
   "execution_count": 32,
   "metadata": {},
   "outputs": [
    {
     "ename": "TypeError",
     "evalue": "int_to_month_year() takes 1 positional argument but 2 were given",
     "output_type": "error",
     "traceback": [
      "\u001b[1;31m---------------------------------------------------------------------------\u001b[0m",
      "\u001b[1;31mTypeError\u001b[0m                                 Traceback (most recent call last)",
      "\u001b[1;32mc:\\Users\\MariusDyrseth\\Documents\\mini prosjekt\\miniprosjekt\\rukjop.ipynb Cell 4\u001b[0m line \u001b[0;36m4\n\u001b[0;32m      <a href='vscode-notebook-cell:/c%3A/Users/MariusDyrseth/Documents/mini%20prosjekt/miniprosjekt/rukjop.ipynb#X24sZmlsZQ%3D%3D?line=0'>1</a>\u001b[0m \u001b[39mimport\u001b[39;00m \u001b[39mgenerate_mqy\u001b[39;00m \u001b[39mas\u001b[39;00m \u001b[39mgm\u001b[39;00m\n\u001b[0;32m      <a href='vscode-notebook-cell:/c%3A/Users/MariusDyrseth/Documents/mini%20prosjekt/miniprosjekt/rukjop.ipynb#X24sZmlsZQ%3D%3D?line=1'>2</a>\u001b[0m start_year \u001b[39m=\u001b[39m \u001b[39m2013\u001b[39m\n\u001b[1;32m----> <a href='vscode-notebook-cell:/c%3A/Users/MariusDyrseth/Documents/mini%20prosjekt/miniprosjekt/rukjop.ipynb#X24sZmlsZQ%3D%3D?line=3'>4</a>\u001b[0m df_result[\u001b[39m'\u001b[39m\u001b[39mmonth_of_year\u001b[39m\u001b[39m'\u001b[39m] \u001b[39m=\u001b[39m df_result[\u001b[39m'\u001b[39;49m\u001b[39mmonth_of_year\u001b[39;49m\u001b[39m'\u001b[39;49m]\u001b[39m.\u001b[39;49mapply(\u001b[39mlambda\u001b[39;49;00m x: gm\u001b[39m.\u001b[39;49mint_to_month_year(x, start_year)[\u001b[39m2\u001b[39;49m])\n\u001b[0;32m      <a href='vscode-notebook-cell:/c%3A/Users/MariusDyrseth/Documents/mini%20prosjekt/miniprosjekt/rukjop.ipynb#X24sZmlsZQ%3D%3D?line=5'>6</a>\u001b[0m df_result\n",
      "File \u001b[1;32mc:\\Users\\MariusDyrseth\\AppData\\Local\\Programs\\Python\\Python311\\Lib\\site-packages\\pandas\\core\\series.py:4760\u001b[0m, in \u001b[0;36mSeries.apply\u001b[1;34m(self, func, convert_dtype, args, by_row, **kwargs)\u001b[0m\n\u001b[0;32m   4625\u001b[0m \u001b[39mdef\u001b[39;00m \u001b[39mapply\u001b[39m(\n\u001b[0;32m   4626\u001b[0m     \u001b[39mself\u001b[39m,\n\u001b[0;32m   4627\u001b[0m     func: AggFuncType,\n\u001b[1;32m   (...)\u001b[0m\n\u001b[0;32m   4632\u001b[0m     \u001b[39m*\u001b[39m\u001b[39m*\u001b[39mkwargs,\n\u001b[0;32m   4633\u001b[0m ) \u001b[39m-\u001b[39m\u001b[39m>\u001b[39m DataFrame \u001b[39m|\u001b[39m Series:\n\u001b[0;32m   4634\u001b[0m \u001b[39m    \u001b[39m\u001b[39m\"\"\"\u001b[39;00m\n\u001b[0;32m   4635\u001b[0m \u001b[39m    Invoke function on values of Series.\u001b[39;00m\n\u001b[0;32m   4636\u001b[0m \n\u001b[1;32m   (...)\u001b[0m\n\u001b[0;32m   4751\u001b[0m \u001b[39m    dtype: float64\u001b[39;00m\n\u001b[0;32m   4752\u001b[0m \u001b[39m    \"\"\"\u001b[39;00m\n\u001b[0;32m   4753\u001b[0m     \u001b[39mreturn\u001b[39;00m SeriesApply(\n\u001b[0;32m   4754\u001b[0m         \u001b[39mself\u001b[39;49m,\n\u001b[0;32m   4755\u001b[0m         func,\n\u001b[0;32m   4756\u001b[0m         convert_dtype\u001b[39m=\u001b[39;49mconvert_dtype,\n\u001b[0;32m   4757\u001b[0m         by_row\u001b[39m=\u001b[39;49mby_row,\n\u001b[0;32m   4758\u001b[0m         args\u001b[39m=\u001b[39;49margs,\n\u001b[0;32m   4759\u001b[0m         kwargs\u001b[39m=\u001b[39;49mkwargs,\n\u001b[1;32m-> 4760\u001b[0m     )\u001b[39m.\u001b[39;49mapply()\n",
      "File \u001b[1;32mc:\\Users\\MariusDyrseth\\AppData\\Local\\Programs\\Python\\Python311\\Lib\\site-packages\\pandas\\core\\apply.py:1207\u001b[0m, in \u001b[0;36mSeriesApply.apply\u001b[1;34m(self)\u001b[0m\n\u001b[0;32m   1204\u001b[0m     \u001b[39mreturn\u001b[39;00m \u001b[39mself\u001b[39m\u001b[39m.\u001b[39mapply_compat()\n\u001b[0;32m   1206\u001b[0m \u001b[39m# self.func is Callable\u001b[39;00m\n\u001b[1;32m-> 1207\u001b[0m \u001b[39mreturn\u001b[39;00m \u001b[39mself\u001b[39;49m\u001b[39m.\u001b[39;49mapply_standard()\n",
      "File \u001b[1;32mc:\\Users\\MariusDyrseth\\AppData\\Local\\Programs\\Python\\Python311\\Lib\\site-packages\\pandas\\core\\apply.py:1287\u001b[0m, in \u001b[0;36mSeriesApply.apply_standard\u001b[1;34m(self)\u001b[0m\n\u001b[0;32m   1281\u001b[0m \u001b[39m# row-wise access\u001b[39;00m\n\u001b[0;32m   1282\u001b[0m \u001b[39m# apply doesn't have a `na_action` keyword and for backward compat reasons\u001b[39;00m\n\u001b[0;32m   1283\u001b[0m \u001b[39m# we need to give `na_action=\"ignore\"` for categorical data.\u001b[39;00m\n\u001b[0;32m   1284\u001b[0m \u001b[39m# TODO: remove the `na_action=\"ignore\"` when that default has been changed in\u001b[39;00m\n\u001b[0;32m   1285\u001b[0m \u001b[39m#  Categorical (GH51645).\u001b[39;00m\n\u001b[0;32m   1286\u001b[0m action \u001b[39m=\u001b[39m \u001b[39m\"\u001b[39m\u001b[39mignore\u001b[39m\u001b[39m\"\u001b[39m \u001b[39mif\u001b[39;00m \u001b[39misinstance\u001b[39m(obj\u001b[39m.\u001b[39mdtype, CategoricalDtype) \u001b[39melse\u001b[39;00m \u001b[39mNone\u001b[39;00m\n\u001b[1;32m-> 1287\u001b[0m mapped \u001b[39m=\u001b[39m obj\u001b[39m.\u001b[39;49m_map_values(\n\u001b[0;32m   1288\u001b[0m     mapper\u001b[39m=\u001b[39;49mcurried, na_action\u001b[39m=\u001b[39;49maction, convert\u001b[39m=\u001b[39;49m\u001b[39mself\u001b[39;49m\u001b[39m.\u001b[39;49mconvert_dtype\n\u001b[0;32m   1289\u001b[0m )\n\u001b[0;32m   1291\u001b[0m \u001b[39mif\u001b[39;00m \u001b[39mlen\u001b[39m(mapped) \u001b[39mand\u001b[39;00m \u001b[39misinstance\u001b[39m(mapped[\u001b[39m0\u001b[39m], ABCSeries):\n\u001b[0;32m   1292\u001b[0m     \u001b[39m# GH#43986 Need to do list(mapped) in order to get treated as nested\u001b[39;00m\n\u001b[0;32m   1293\u001b[0m     \u001b[39m#  See also GH#25959 regarding EA support\u001b[39;00m\n\u001b[0;32m   1294\u001b[0m     \u001b[39mreturn\u001b[39;00m obj\u001b[39m.\u001b[39m_constructor_expanddim(\u001b[39mlist\u001b[39m(mapped), index\u001b[39m=\u001b[39mobj\u001b[39m.\u001b[39mindex)\n",
      "File \u001b[1;32mc:\\Users\\MariusDyrseth\\AppData\\Local\\Programs\\Python\\Python311\\Lib\\site-packages\\pandas\\core\\base.py:921\u001b[0m, in \u001b[0;36mIndexOpsMixin._map_values\u001b[1;34m(self, mapper, na_action, convert)\u001b[0m\n\u001b[0;32m    918\u001b[0m \u001b[39mif\u001b[39;00m \u001b[39misinstance\u001b[39m(arr, ExtensionArray):\n\u001b[0;32m    919\u001b[0m     \u001b[39mreturn\u001b[39;00m arr\u001b[39m.\u001b[39mmap(mapper, na_action\u001b[39m=\u001b[39mna_action)\n\u001b[1;32m--> 921\u001b[0m \u001b[39mreturn\u001b[39;00m algorithms\u001b[39m.\u001b[39;49mmap_array(arr, mapper, na_action\u001b[39m=\u001b[39;49mna_action, convert\u001b[39m=\u001b[39;49mconvert)\n",
      "File \u001b[1;32mc:\\Users\\MariusDyrseth\\AppData\\Local\\Programs\\Python\\Python311\\Lib\\site-packages\\pandas\\core\\algorithms.py:1814\u001b[0m, in \u001b[0;36mmap_array\u001b[1;34m(arr, mapper, na_action, convert)\u001b[0m\n\u001b[0;32m   1812\u001b[0m values \u001b[39m=\u001b[39m arr\u001b[39m.\u001b[39mastype(\u001b[39mobject\u001b[39m, copy\u001b[39m=\u001b[39m\u001b[39mFalse\u001b[39;00m)\n\u001b[0;32m   1813\u001b[0m \u001b[39mif\u001b[39;00m na_action \u001b[39mis\u001b[39;00m \u001b[39mNone\u001b[39;00m:\n\u001b[1;32m-> 1814\u001b[0m     \u001b[39mreturn\u001b[39;00m lib\u001b[39m.\u001b[39;49mmap_infer(values, mapper, convert\u001b[39m=\u001b[39;49mconvert)\n\u001b[0;32m   1815\u001b[0m \u001b[39melse\u001b[39;00m:\n\u001b[0;32m   1816\u001b[0m     \u001b[39mreturn\u001b[39;00m lib\u001b[39m.\u001b[39mmap_infer_mask(\n\u001b[0;32m   1817\u001b[0m         values, mapper, mask\u001b[39m=\u001b[39misna(values)\u001b[39m.\u001b[39mview(np\u001b[39m.\u001b[39muint8), convert\u001b[39m=\u001b[39mconvert\n\u001b[0;32m   1818\u001b[0m     )\n",
      "File \u001b[1;32mlib.pyx:2920\u001b[0m, in \u001b[0;36mpandas._libs.lib.map_infer\u001b[1;34m()\u001b[0m\n",
      "\u001b[1;32mc:\\Users\\MariusDyrseth\\Documents\\mini prosjekt\\miniprosjekt\\rukjop.ipynb Cell 4\u001b[0m line \u001b[0;36m4\n\u001b[0;32m      <a href='vscode-notebook-cell:/c%3A/Users/MariusDyrseth/Documents/mini%20prosjekt/miniprosjekt/rukjop.ipynb#X24sZmlsZQ%3D%3D?line=0'>1</a>\u001b[0m \u001b[39mimport\u001b[39;00m \u001b[39mgenerate_mqy\u001b[39;00m \u001b[39mas\u001b[39;00m \u001b[39mgm\u001b[39;00m\n\u001b[0;32m      <a href='vscode-notebook-cell:/c%3A/Users/MariusDyrseth/Documents/mini%20prosjekt/miniprosjekt/rukjop.ipynb#X24sZmlsZQ%3D%3D?line=1'>2</a>\u001b[0m start_year \u001b[39m=\u001b[39m \u001b[39m2013\u001b[39m\n\u001b[1;32m----> <a href='vscode-notebook-cell:/c%3A/Users/MariusDyrseth/Documents/mini%20prosjekt/miniprosjekt/rukjop.ipynb#X24sZmlsZQ%3D%3D?line=3'>4</a>\u001b[0m df_result[\u001b[39m'\u001b[39m\u001b[39mmonth_of_year\u001b[39m\u001b[39m'\u001b[39m] \u001b[39m=\u001b[39m df_result[\u001b[39m'\u001b[39m\u001b[39mmonth_of_year\u001b[39m\u001b[39m'\u001b[39m]\u001b[39m.\u001b[39mapply(\u001b[39mlambda\u001b[39;00m x: gm\u001b[39m.\u001b[39;49mint_to_month_year(x, start_year)[\u001b[39m2\u001b[39m])\n\u001b[0;32m      <a href='vscode-notebook-cell:/c%3A/Users/MariusDyrseth/Documents/mini%20prosjekt/miniprosjekt/rukjop.ipynb#X24sZmlsZQ%3D%3D?line=5'>6</a>\u001b[0m df_result\n",
      "\u001b[1;31mTypeError\u001b[0m: int_to_month_year() takes 1 positional argument but 2 were given"
     ]
    }
   ],
   "source": [
    "# import generate_mqy as gm\n",
    "# Funker ikke, må fikses\n",
    "# df_result['month_of_year'] = df_result['month_of_year'].apply(gm.int_to_month_year[2])\n",
    "# df_result"
   ]
  },
  {
   "cell_type": "code",
   "execution_count": null,
   "metadata": {},
   "outputs": [],
   "source": [
    "df_sum = df_result.groupby([\"date_block_num\", \"item_id\", \"shop_id\"], as_index=False)[\"item_cnt_day\"].sum()"
   ]
  },
  {
   "cell_type": "code",
   "execution_count": null,
   "metadata": {},
   "outputs": [],
   "source": [
    "df_lag = df_sum.copy()\n",
    "df_lag[\"lag_1\"] = df_lag[\"date_block_num\"] + 1\n",
    "df_lag.isna().any()"
   ]
  },
  {
   "cell_type": "code",
   "execution_count": null,
   "metadata": {},
   "outputs": [],
   "source": [
    "df_lag = pd.merge(df_sum, df_lag, left_on=[\"date_block_num\", \"item_id\", \"shop_id\"], right_on=[\"lag_1\", \"item_id\", \"shop_id\"], how=\"left\")\n",
    "df_lag = df_lag.sort_values(\"item_cnt_day_x\", ascending=False)\n",
    "df_lag = df_lag.drop(columns=[\"date_block_num_y\", \"lag_1\"])\n",
    "df_lag[\"item_cnt_day_y\"].fillna(0, inplace=True)"
   ]
  },
  {
   "cell_type": "code",
   "execution_count": null,
   "metadata": {},
   "outputs": [],
   "source": [
    "df_lag = df_lag.rename(columns={\"item_cnt_day_x\": \"item_cnt_month\", \"item_cnt_day_y\": \"item_cnt_last_month\"})\n",
    "df_lag"
   ]
  },
  {
   "cell_type": "code",
   "execution_count": null,
   "metadata": {},
   "outputs": [],
   "source": [
    "df_lag_12 = df_sum.copy()\n",
    "df_lag_12[\"lag_12\"] = df_lag_12[\"date_block_num\"]+12\n",
    "df_lag_12"
   ]
  },
  {
   "cell_type": "code",
   "execution_count": null,
   "metadata": {},
   "outputs": [],
   "source": [
    "df_lag = pd.merge(df_lag, df_lag_12, left_on=[\"date_block_num_x\", \"item_id\", \"shop_id\"], right_on=[\"lag_12\", \"item_id\", \"shop_id\"], how=\"left\")"
   ]
  },
  {
   "cell_type": "code",
   "execution_count": null,
   "metadata": {},
   "outputs": [],
   "source": [
    "df_lag = df_lag.drop(columns=[\"date_block_num\", \"lag_12\"])\n",
    "df_lag = df_lag.rename(columns={\"item_cnt_day\": \"item_cnt_last_year\"})\n",
    "df_lag\n"
   ]
  },
  {
   "cell_type": "code",
   "execution_count": null,
   "metadata": {},
   "outputs": [],
   "source": [
    "df_lag[\"item_cnt_last_year\"].fillna(0, inplace=True)\n",
    "df_lag"
   ]
  }
 ],
 "metadata": {
  "kernelspec": {
   "display_name": "Python 3",
   "language": "python",
   "name": "python3"
  },
  "language_info": {
   "codemirror_mode": {
    "name": "ipython",
    "version": 3
   },
   "file_extension": ".py",
   "mimetype": "text/x-python",
   "name": "python",
   "nbconvert_exporter": "python",
   "pygments_lexer": "ipython3",
   "version": "3.11.5"
  }
 },
 "nbformat": 4,
 "nbformat_minor": 2
}
