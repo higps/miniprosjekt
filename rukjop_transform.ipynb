{
 "cells": [
  {
   "cell_type": "code",
   "execution_count": 1,
   "metadata": {},
   "outputs": [],
   "source": [
    "import pandas as pd\n",
    "from itertools import product"
   ]
  },
  {
   "cell_type": "code",
   "execution_count": 2,
   "metadata": {},
   "outputs": [
    {
     "data": {
      "text/plain": [
       "Index(['date', 'date_block_num', 'shop_id', 'item_id', 'item_price',\n",
       "       'item_cnt_day'],\n",
       "      dtype='object')"
      ]
     },
     "execution_count": 2,
     "metadata": {},
     "output_type": "execute_result"
    }
   ],
   "source": [
    "df_original = pd.read_csv(\"sales_train.csv\")\n",
    "df_original.columns"
   ]
  },
  {
   "cell_type": "code",
   "execution_count": null,
   "metadata": {},
   "outputs": [],
   "source": [
    "df_draft = df_original[[\"date_block_num\", \"shop_id\", \"item_id\", \"item_cnt_day\"]].copy()\n",
    "df_draft = df_draft.groupby([\"date_block_num\", \"item_id\", \"shop_id\"], as_index=False).sum()\n",
    "df_result = pd.DataFrame()\n",
    "for i in range(34):\n",
    "    df_date_block = df_draft[df_draft[\"date_block_num\"] == i][[\"date_block_num\", \"item_id\", \"shop_id\"]]\n",
    "    df_crossed = pd.DataFrame(list(product([i], df_date_block[\"item_id\"].unique(), df_date_block[\"shop_id\"].unique())),\n",
    "                               columns=[\"date_block_num\", \"item_id\", \"shop_id\"])\n",
    "    df_result = pd.concat([df_result, df_crossed], ignore_index=True)\n",
    "df_result = pd.merge(df_result, df_draft, on=[\"date_block_num\", \"item_id\", \"shop_id\"], how=\"left\")\n",
    "df_result[\"item_cnt_day\"].fillna(0, inplace=True)\n",
    "df_result"
   ]
  },
  {
   "cell_type": "code",
   "execution_count": null,
   "metadata": {},
   "outputs": [],
   "source": [
    "df_result.to_csv(\"rukjop_transformed.csv\")"
   ]
  }
 ],
 "metadata": {
  "kernelspec": {
   "display_name": "Python 3",
   "language": "python",
   "name": "python3"
  },
  "language_info": {
   "codemirror_mode": {
    "name": "ipython",
    "version": 3
   },
   "file_extension": ".py",
   "mimetype": "text/x-python",
   "name": "python",
   "nbconvert_exporter": "python",
   "pygments_lexer": "ipython3",
   "version": "3.11.5"
  }
 },
 "nbformat": 4,
 "nbformat_minor": 2
}
